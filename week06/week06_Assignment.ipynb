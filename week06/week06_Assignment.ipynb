{
  "nbformat": 4,
  "nbformat_minor": 0,
  "metadata": {
    "colab": {
      "provenance": [],
      "include_colab_link": true
    },
    "kernelspec": {
      "name": "python3",
      "display_name": "Python 3"
    },
    "language_info": {
      "name": "python"
    }
  },
  "cells": [
    {
      "cell_type": "markdown",
      "metadata": {
        "id": "view-in-github",
        "colab_type": "text"
      },
      "source": [
        "<a href=\"https://colab.research.google.com/github/Ruby-pearl1/ores5160-2025/blob/main/week06/week06_Assignment.ipynb\" target=\"_parent\"><img src=\"https://colab.research.google.com/assets/colab-badge.svg\" alt=\"Open In Colab\"/></a>"
      ]
    },
    {
      "cell_type": "code",
      "execution_count": 8,
      "metadata": {
        "id": "oQ8VIGdwtyt9"
      },
      "outputs": [],
      "source": [
        "table01 = [\n",
        "    {\"Interaction ID\": 10114, \"Customer ID\": 524, \"Customer Name\": \"Bob Smith\", \"Customer Address\": \"121 abc\",\n",
        "     \"Customer Phone\": \"1111111111\", \"Desk Staff ID\": 48, \"Desk Staff Name\": \"Sam G\", \"Timestamp\": \"20210202 0400 UTC\", \"Shift\": 3},\n",
        "    {\"Interaction ID\": 10115, \"Customer ID\": 127, \"Customer Name\": \"Xi Huan\", \"Customer Address\": \"1411 xyz\",\n",
        "     \"Customer Phone\": \"2112111111\", \"Desk Staff ID\": 48, \"Desk Staff Name\": \"Sam G\", \"Timestamp\": \"20210202 0412 UTC\", \"Shift\": 3},\n",
        "    {\"Interaction ID\": 10116, \"Customer ID\": 127, \"Customer Name\": \"Xi Huan\", \"Customer Address\": \"1411 xyz\",\n",
        "     \"Customer Phone\": \"2112111111\", \"Desk Staff ID\": 17, \"Desk Staff Name\": \"Mia Ol\", \"Timestamp\": \"20210202 0621 UTC\", \"Shift\": 1},\n",
        "    {\"Interaction ID\": 10117, \"Customer ID\": 421, \"Customer Name\": \"Sri Lahk\", \"Customer Address\": \"13 ghi\",\n",
        "     \"Customer Phone\": \"110111211\", \"Desk Staff ID\": 17, \"Desk Staff Name\": \"Mia Ol\", \"Timestamp\": \"20210202 0711 UTC\", \"Shift\": 1},\n",
        "    {\"Interaction ID\": 10118, \"Customer ID\": 524, \"Customer Name\": \"Bob Smith\", \"Customer Address\": \"121 abc\",\n",
        "     \"Customer Phone\": \"1111111111\", \"Desk Staff ID\": 32, \"Desk Staff Name\": \"Jose Pr\", \"Timestamp\": \"20210202 0932 UTC\", \"Shift\": 1},\n",
        "]"
      ]
    },
    {
      "cell_type": "markdown",
      "source": [
        "Q1. SELECT * FROM table01 WHERE Desk Staff ID = 17\n"
      ],
      "metadata": {
        "id": "SIDHE8ih-N37"
      }
    },
    {
      "cell_type": "code",
      "source": [
        "for row in table01:\n",
        "  if row[\"Desk Staff ID\"] == 17:\n",
        "    print(row)"
      ],
      "metadata": {
        "id": "CSYbKbSIBstM",
        "outputId": "a09571c7-285f-4228-ecde-1cb104c2301b",
        "colab": {
          "base_uri": "https://localhost:8080/"
        }
      },
      "execution_count": 9,
      "outputs": [
        {
          "output_type": "stream",
          "name": "stdout",
          "text": [
            "{'Interaction ID': 10116, 'Customer ID': 127, 'Customer Name': 'Xi Huan', 'Customer Address': '1411 xyz', 'Customer Phone': '2112111111', 'Desk Staff ID': 17, 'Desk Staff Name': 'Mia Ol', 'Timestamp': '20210202 0621 UTC', 'Shift': 1}\n",
            "{'Interaction ID': 10117, 'Customer ID': 421, 'Customer Name': 'Sri Lahk', 'Customer Address': '13 ghi', 'Customer Phone': '110111211', 'Desk Staff ID': 17, 'Desk Staff Name': 'Mia Ol', 'Timestamp': '20210202 0711 UTC', 'Shift': 1}\n"
          ]
        }
      ]
    },
    {
      "cell_type": "markdown",
      "source": [
        "Q2: SELECT * FROM table WHERE Desk Staff ID = 17 AND Customer ID = 127"
      ],
      "metadata": {
        "id": "jndf8cDa-ZaR"
      }
    },
    {
      "cell_type": "code",
      "source": [
        "for row in table01:\n",
        "    if row[\"Desk Staff ID\"] == 17 and row[\"Customer ID\"] == 127:\n",
        "        print(row)\n"
      ],
      "metadata": {
        "colab": {
          "base_uri": "https://localhost:8080/"
        },
        "id": "btLI-Gjjq6u8",
        "outputId": "6bdb9a2b-e852-46d4-b5d5-c2bb4f2bf521"
      },
      "execution_count": 10,
      "outputs": [
        {
          "output_type": "stream",
          "name": "stdout",
          "text": [
            "{'Interaction ID': 10116, 'Customer ID': 127, 'Customer Name': 'Xi Huan', 'Customer Address': '1411 xyz', 'Customer Phone': '2112111111', 'Desk Staff ID': 17, 'Desk Staff Name': 'Mia Ol', 'Timestamp': '20210202 0621 UTC', 'Shift': 1}\n"
          ]
        }
      ]
    },
    {
      "cell_type": "markdown",
      "source": [
        "Q3:SELECT * FROM table WHERE Desk Staff ID = 17 OR Customer ID = 127"
      ],
      "metadata": {
        "id": "AevNqk2a-tee"
      }
    },
    {
      "cell_type": "code",
      "source": [
        "for row in table01:\n",
        "    if row[\"Desk Staff ID\"] == 17 or row[\"Customer ID\"] == 127:\n",
        "        print(row)\n"
      ],
      "metadata": {
        "colab": {
          "base_uri": "https://localhost:8080/"
        },
        "id": "-mU2dfgurJ12",
        "outputId": "26ecfadf-cdfc-493c-81be-6dddaa3f8409"
      },
      "execution_count": 11,
      "outputs": [
        {
          "output_type": "stream",
          "name": "stdout",
          "text": [
            "{'Interaction ID': 10115, 'Customer ID': 127, 'Customer Name': 'Xi Huan', 'Customer Address': '1411 xyz', 'Customer Phone': '2112111111', 'Desk Staff ID': 48, 'Desk Staff Name': 'Sam G', 'Timestamp': '20210202 0412 UTC', 'Shift': 3}\n",
            "{'Interaction ID': 10116, 'Customer ID': 127, 'Customer Name': 'Xi Huan', 'Customer Address': '1411 xyz', 'Customer Phone': '2112111111', 'Desk Staff ID': 17, 'Desk Staff Name': 'Mia Ol', 'Timestamp': '20210202 0621 UTC', 'Shift': 1}\n",
            "{'Interaction ID': 10117, 'Customer ID': 421, 'Customer Name': 'Sri Lahk', 'Customer Address': '13 ghi', 'Customer Phone': '110111211', 'Desk Staff ID': 17, 'Desk Staff Name': 'Mia Ol', 'Timestamp': '20210202 0711 UTC', 'Shift': 1}\n"
          ]
        }
      ]
    },
    {
      "cell_type": "markdown",
      "source": [
        "Q4: SELECT * FROM table WHERE NOT Desk Staff ID = 17 (HINT: use !=)"
      ],
      "metadata": {
        "id": "KDZu0U9P-gQ7"
      }
    },
    {
      "cell_type": "code",
      "source": [
        "for row in table01:\n",
        "    if row[\"Desk Staff ID\"] != 17:\n",
        "        print(row)\n"
      ],
      "metadata": {
        "colab": {
          "base_uri": "https://localhost:8080/"
        },
        "id": "JQe-lnXmrb6m",
        "outputId": "cf0e1b5f-9a73-4b92-cccf-02010d234c84"
      },
      "execution_count": 12,
      "outputs": [
        {
          "output_type": "stream",
          "name": "stdout",
          "text": [
            "{'Interaction ID': 10114, 'Customer ID': 524, 'Customer Name': 'Bob Smith', 'Customer Address': '121 abc', 'Customer Phone': '1111111111', 'Desk Staff ID': 48, 'Desk Staff Name': 'Sam G', 'Timestamp': '20210202 0400 UTC', 'Shift': 3}\n",
            "{'Interaction ID': 10115, 'Customer ID': 127, 'Customer Name': 'Xi Huan', 'Customer Address': '1411 xyz', 'Customer Phone': '2112111111', 'Desk Staff ID': 48, 'Desk Staff Name': 'Sam G', 'Timestamp': '20210202 0412 UTC', 'Shift': 3}\n",
            "{'Interaction ID': 10118, 'Customer ID': 524, 'Customer Name': 'Bob Smith', 'Customer Address': '121 abc', 'Customer Phone': '1111111111', 'Desk Staff ID': 32, 'Desk Staff Name': 'Jose Pr', 'Timestamp': '20210202 0932 UTC', 'Shift': 1}\n"
          ]
        }
      ]
    },
    {
      "cell_type": "markdown",
      "source": [
        "Q5:SELECT * FROM table WHERE Desk Staff ID = 17 and not Customer ID = 127"
      ],
      "metadata": {
        "id": "qkQczsCz_DMS"
      }
    },
    {
      "cell_type": "code",
      "source": [
        "for row in table01:\n",
        "    if row[\"Desk Staff ID\"] == 17 and row[\"Customer ID\"] != 127:\n",
        "        print(row)\n"
      ],
      "metadata": {
        "colab": {
          "base_uri": "https://localhost:8080/"
        },
        "id": "AQACU4EasAJ1",
        "outputId": "9c002a31-1b08-4096-da6d-d6c301d9148e"
      },
      "execution_count": 13,
      "outputs": [
        {
          "output_type": "stream",
          "name": "stdout",
          "text": [
            "{'Interaction ID': 10117, 'Customer ID': 421, 'Customer Name': 'Sri Lahk', 'Customer Address': '13 ghi', 'Customer Phone': '110111211', 'Desk Staff ID': 17, 'Desk Staff Name': 'Mia Ol', 'Timestamp': '20210202 0711 UTC', 'Shift': 1}\n"
          ]
        }
      ]
    },
    {
      "cell_type": "markdown",
      "source": [
        "Q6:SELECT * FROM table WHERE Desk Staff ID = 17 or not Customer ID = 127"
      ],
      "metadata": {
        "id": "eUgOYIzC_RF0"
      }
    },
    {
      "cell_type": "code",
      "source": [
        "for row in table01:\n",
        "    if row[\"Desk Staff ID\"] == 17 or row[\"Customer ID\"] != 127:\n",
        "        print(row)\n"
      ],
      "metadata": {
        "colab": {
          "base_uri": "https://localhost:8080/"
        },
        "id": "t0HpNuvhsaxe",
        "outputId": "34f62ee9-adfa-472e-e453-353efc96a449"
      },
      "execution_count": 14,
      "outputs": [
        {
          "output_type": "stream",
          "name": "stdout",
          "text": [
            "{'Interaction ID': 10114, 'Customer ID': 524, 'Customer Name': 'Bob Smith', 'Customer Address': '121 abc', 'Customer Phone': '1111111111', 'Desk Staff ID': 48, 'Desk Staff Name': 'Sam G', 'Timestamp': '20210202 0400 UTC', 'Shift': 3}\n",
            "{'Interaction ID': 10116, 'Customer ID': 127, 'Customer Name': 'Xi Huan', 'Customer Address': '1411 xyz', 'Customer Phone': '2112111111', 'Desk Staff ID': 17, 'Desk Staff Name': 'Mia Ol', 'Timestamp': '20210202 0621 UTC', 'Shift': 1}\n",
            "{'Interaction ID': 10117, 'Customer ID': 421, 'Customer Name': 'Sri Lahk', 'Customer Address': '13 ghi', 'Customer Phone': '110111211', 'Desk Staff ID': 17, 'Desk Staff Name': 'Mia Ol', 'Timestamp': '20210202 0711 UTC', 'Shift': 1}\n",
            "{'Interaction ID': 10118, 'Customer ID': 524, 'Customer Name': 'Bob Smith', 'Customer Address': '121 abc', 'Customer Phone': '1111111111', 'Desk Staff ID': 32, 'Desk Staff Name': 'Jose Pr', 'Timestamp': '20210202 0932 UTC', 'Shift': 1}\n"
          ]
        }
      ]
    },
    {
      "cell_type": "code",
      "source": [],
      "metadata": {
        "id": "yOhHfc_T_SCi"
      },
      "execution_count": 14,
      "outputs": []
    }
  ]
}